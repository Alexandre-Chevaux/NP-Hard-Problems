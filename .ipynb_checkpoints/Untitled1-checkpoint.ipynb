{
 "cells": [
  {
   "cell_type": "markdown",
   "metadata": {},
   "source": [
    "# Projet 2 - NP Hard Problems"
   ]
  },
  {
   "cell_type": "markdown",
   "metadata": {},
   "source": [
    "# Four color theorem"
   ]
  },
  {
   "cell_type": "markdown",
   "metadata": {},
   "source": [
    "## Initialisation de la carte"
   ]
  },
  {
   "cell_type": "code",
   "execution_count": 1,
   "metadata": {},
   "outputs": [],
   "source": [
    "## Nombre de departements\n",
    "N = 95 \n",
    "\n",
    "V = array(0,dim=c(N,N)) \n",
    "\n",
    "V[1,39]=1; V[1,74]=1; V[1,73]=1; V[1,38]=1; V[1,69]=1; V[1,71]=1;\n",
    "V[2,8]=1; V[2,51]=1; V[2,77]=1; V[2,60]=1; V[2,80]=1; V[2,59]=1;\n",
    "V[3,71]=1; V[3,42]=1; V[3,63]=1; V[3,23]=1; V[3,18]=1; V[3,58]=1;\n",
    "V[4,5]=1; V[4,6]=1; V[4,83]=1; V[4,84]=1; V[4,26]=1;\n",
    "V[5,26]=1; V[5,38]=1; V[5,73]=1; \n",
    "V[6,83]=1;\n",
    "V[7,26]=1; V[7,30]=1; V[7,38]=1; V[7,43]=1; V[7,48]=1; \n",
    "V[7,42]=1; V[7,84]=1; \n",
    "V[8,51]=1; V[8,55]=1;\n",
    "V[9,11]=1; V[9,66]=1; V[9,31]=1;\n",
    "V[10,21]=1; V[10,89]=1; V[10,77]=1; V[10,51]=1; V[10,52]=1;\n",
    "V[11,66]=1; V[11,31]=1; V[11,81]=1; V[11,34]=1;\n",
    "V[12,15]=1; V[12,48]=1; V[12,30]=1; V[12,34]=1; V[12,81]=1; \n",
    "V[12,82]=1; V[12,46]=1;\n",
    "V[13,83]=1; V[13,84]=1; V[13,30]=1;\n",
    "V[14,50]=1; V[14,61]=1; V[14,27]=1;\n",
    "V[15,19]=1; V[15,63]=1; V[15,43]=1; V[15,48]=1; V[15,46]=1;\n",
    "V[16,17]=1; V[16,79]=1; V[16,86]=1; V[16,87]=1; V[16,24]=1;\n",
    "V[17,85]=1; V[17,79]=1; V[17,24]=1; V[17,33]=1; \n",
    "V[18,23]=1; V[18,36]=1; V[18,41]=1; V[18,45]=1; V[18,58]=1;\n",
    "V[19,24]=1; V[19,87]=1; V[19,23]=1; V[19,63]=1; V[19,46]=1;\n",
    "V[21,52]=1; V[21,70]=1; V[21,39]=1; V[21,71]=1; V[21,58]=1; \n",
    "V[21,89]=1;\n",
    "V[22,29]=1; V[22,56]=1; V[22,35]=1;\n",
    "V[23,36]=1; V[23,63]=1; V[23,87]=1;\n",
    "V[24,33]=1; V[24,87]=1; V[24,46]=1; V[24,47]=1;\n",
    "V[25,39]=1; V[25,70]=1; V[25,90]=1; V[25,68]=1;\n",
    "V[26,38]=1; V[26,84]=1;\n",
    "V[27,28]=1; V[27,61]=1; V[27,76]=1; V[27,60]=1; V[27,95]=1; \n",
    "V[27,78]=1; \n",
    "V[28,61]=1; V[28,41]=1; V[28,45]=1; V[28,91]=1; V[28,78]=1; \n",
    "V[28,72]=1;\n",
    "V[29,56]=1;\n",
    "V[30,34]=1; V[30,48]=1; V[30,84]=1;\n",
    "V[31,32]=1; V[31,82]=1; V[31,81]=1; V[31,65]=1;\n",
    "V[32,40]=1; V[32,47]=1; V[32,82]=1; V[32,65]=1; V[32,64]=1;\n",
    "V[33,40]=1; V[33,47]=1;\n",
    "V[34,81]=1;\n",
    "V[35,53]=1; V[35,50]=1; V[35,44]=1; V[35,56]=1;\n",
    "V[36,37]=1; V[36,41]=1; V[36,87]=1; V[36,86]=1;\n",
    "V[37,41]=1; V[37,49]=1; V[37,72]=1; V[37,86]=1; \n",
    "V[38,42]=1; V[38,69]=1; V[38,73]=1;\n",
    "V[39,71]=1; V[39,70]=1;\n",
    "V[40,47]=1; V[40,64]=1;\n",
    "V[41,45]=1; V[41,72]=1;\n",
    "V[42,63]=1; V[42,43]=1; V[42,63]=1; V[42,69]=1; V[42,71]=1;\n",
    "V[43,63]=1; V[43,48]=1;\n",
    "V[44,49]=1; V[44,85]=1; V[44,56]=1;\n",
    "V[45,91]=1; V[45,77]=1; V[45,89]=1 ; V[45,58]=1;\n",
    "V[46,47]=1; V[46,82]=1;\n",
    "V[47,82]=1;\n",
    "V[49,53]=1; V[49,72]=1; V[49,86]=1; V[49,79]=1; V[49,85]=1;\n",
    "V[50,61]=1; V[50,53]=1;\n",
    "V[51,52]=1; V[51,55]=1; V[51,77]=1;\n",
    "V[52,55]=1; V[52,88]=1; V[52,70]=1;\n",
    "V[53,61]=1; V[53,72]=1;\n",
    "V[54,55]=1; V[54,57]=1; V[54,88]=1;\n",
    "V[55,88]=1;\n",
    "V[57,67]=1;\n",
    "V[58,71]=1; V[58,89]=1;\n",
    "V[59,62]=1; V[59,80]=1;\n",
    "V[60,76]=1; V[60,95]=1; V[60,77]=1; V[60,80]=1;\n",
    "V[61,72]=1;\n",
    "V[62,80]=1;\n",
    "V[64,65]=1;\n",
    "V[67,68]=1; V[67,88]=1;\n",
    "V[68,90]=1; V[68,88]=1;\n",
    "V[69,71]=1;\n",
    "V[70,90]=1; V[70,88]=1;\n",
    "V[73,74]=1;\n",
    "V[75,94]=1; V[75,93]=1; V[75,92]=1;\n",
    "V[76,80]=1;\n",
    "V[77,89]=1; V[77,91]=1; V[77,93]=1; V[77,94]=1; V[77,95]=1; \n",
    "V[78,91]=1; V[78,92]=1; V[78,95]=1; \n",
    "V[79,85]=1; V[79,86]=1;\n",
    "V[81,82]=1;\n",
    "V[83,84]=1;\n",
    "V[86,87]=1;\n",
    "V[88,90]=1;\n",
    "V[91,92]=1; V[91,94]=1;\n",
    "V[92,93]=1; V[92,94]=1; V[92,95]=1;\n",
    "V[93,94]=1; V[93,95]=1;\n",
    "\n",
    "V = t(V) + V"
   ]
  },
  {
   "cell_type": "markdown",
   "metadata": {},
   "source": [
    "#### Initialisation des pramètres"
   ]
  },
  {
   "cell_type": "code",
   "execution_count": 2,
   "metadata": {},
   "outputs": [],
   "source": [
    "# Nombre de couleur L souhaite\n",
    "L = 4\n",
    "# Nombre d'iterations de l'algorithme\n",
    "nmax = 10000\n",
    "# donnee\n",
    "beta = 1 \n",
    "# Nombre de département\n",
    "N = 95 "
   ]
  },
  {
   "cell_type": "markdown",
   "metadata": {},
   "source": [
    "#### Fonction d'erreur totale H"
   ]
  },
  {
   "cell_type": "code",
   "execution_count": 4,
   "metadata": {},
   "outputs": [],
   "source": [
    "compute_error = function(G)\n",
    "{\n",
    "    H = 0\n",
    "    for (i in 1:(N-1))\n",
    "    {\n",
    "        for (j in (i+1):N)\n",
    "        {\n",
    "            H = H + (G[i] == G[j]) * V[i, j]\n",
    "        }\n",
    "    }\n",
    "    \n",
    "    return(H)\n",
    "}"
   ]
  },
  {
   "cell_type": "markdown",
   "metadata": {},
   "source": [
    "#### Transition 1"
   ]
  },
  {
   "cell_type": "code",
   "execution_count": 5,
   "metadata": {},
   "outputs": [],
   "source": [
    "transition1 = function(g, H, beta)\n",
    "{\n",
    "  gnew = g\n",
    "  # on tire une coordonnée au hasard\n",
    "  k0 = sample(1:N, 1)\n",
    "  # on calcule la valeur de la coordonée + 1, et la valeur de la coordonée - 1\n",
    "  coord_plus_1 = g[k0] + 1\n",
    "  coord_moins_1 = g[k0] - 1\n",
    "  \n",
    "  # On tire un nombre au hasard : max(coord_moins_1, 1) OU min(coord_plus_1, L)\n",
    "  gnew[k0] = sample(c(max(coord_moins_1, 1), min(coord_plus_1, L)), 1)\n",
    "  \n",
    "  # On calcul H (ou delta) : c'est la différence entre les anciennes et les nouvelles coordonnées\n",
    "  delta = compute_error(gnew) - compute_error(g)\n",
    "  \n",
    "  alpha = min(exp(beta * delta), 1)\n",
    "  \n",
    "  u = runif(1)\n",
    "\n",
    "  # on accepte si u > alpha car on MAXIMISE ! \n",
    "  if (u > alpha)\n",
    "  {\n",
    "    # on accepte la transition\n",
    "    result = c(gnew, H + delta)\n",
    "  }\n",
    "  else\n",
    "  {\n",
    "    # on rejette la transition\n",
    "    result = c(g, H)\n",
    "  }\n",
    "  \n",
    "  return(result)\n",
    "}"
   ]
  },
  {
   "cell_type": "markdown",
   "metadata": {},
   "source": [
    "#### Transition 2"
   ]
  },
  {
   "cell_type": "code",
   "execution_count": 7,
   "metadata": {},
   "outputs": [],
   "source": [
    "transition2 = function(g, H, beta)\n",
    "{\n",
    "  gnew = g\n",
    "  \n",
    "  k0 = sample(1:N, 1)\n",
    "  coord_plus_1 = g[k0] + 1\n",
    "  coord_moins_1 = g[k0] - 1\n",
    "  random_ensemble = c(max(coord_moins_1, 1), min(coord_plus_1, L))\n",
    "  gnew[k0] = sample(random_ensemble, 1)\n",
    "  \n",
    "  pgibbs = rep(0, L)\n",
    "  for (i_j in 1:L)\n",
    "  {\n",
    "    delta_num = 0\n",
    "    for (i_l in 1:N)\n",
    "    {\n",
    "      # On soustrait les différences car on MINIMISE H !\n",
    "      delta_num = delta_num - abs(i_j == g[i_l]) * V[k0, i_l]\n",
    "    }\n",
    "    pgibbs[i_j] = exp(beta * delta_num)\n",
    "  }\n",
    "  \n",
    "  total = sum(pgibbs)\n",
    "  pgibbs = pgibbs / total\n",
    "  \n",
    "  gnew[k0] = sample(1:L, prob=pgibbs)\n",
    "  \n",
    "  one_H = compute_error(gnew)\n",
    "  \n",
    "  result = c(gnew, one_H)\n",
    "  \n",
    "  return(result)\n",
    "}"
   ]
  },
  {
   "cell_type": "markdown",
   "metadata": {},
   "source": [
    "#### Calcul du G optimal et affichage de l'erreur total H"
   ]
  },
  {
   "cell_type": "code",
   "execution_count": 9,
   "metadata": {},
   "outputs": [
    {
     "data": {
      "image/png": "[encoded data removed]",
      "text/plain": [
       "Plot with title \"Transition 1\""
      ]
     },
     "metadata": {},
     "output_type": "display_data"
    },
    {
     "data": {
      "image/png": "[encoded data removed]",
      "text/plain": [
       "Plot with title \"Transition 2\""
      ]
     },
     "metadata": {},
     "output_type": "display_data"
    }
   ],
   "source": [
    "compute_G = function(G, nmax_simul, num_method)\n",
    "{\n",
    "    transition_method = c(transition1, transition2)\n",
    "    stopifnot(match(num_method, 1:2) > 0)\n",
    "    \n",
    "    H = rep(0, nmax_simul)\n",
    "    H[1] = compute_error(G)\n",
    "    \n",
    "    beta_0 = 1\n",
    "    for (i in 1:nmax_simul)\n",
    "    {\n",
    "        result = transition_method[[num_method]](G, H[i], beta)\n",
    "        G = result[1:N]\n",
    "        H[i+1] = result[N+1]\n",
    "        beta = beta_0 * sqrt(i)\n",
    "    }\n",
    "    \n",
    "    return(list(\"G\"= G, \"H\"= H))\n",
    "}\n",
    "\n",
    "# Méthode Transition 1\n",
    "# Initialissation aleatoire des couleurs des departements\n",
    "G = sample(1:L,N,replace=TRUE)\n",
    "\n",
    "result = compute_G(G, nmax, 1)\n",
    "\n",
    "G_opt1 = unlist(result[\"G\"])\n",
    "H_opt1 = unlist(result[\"H\"])\n",
    "\n",
    "plot(H_opt1,\n",
    "    main=\"Transition 1\",\n",
    "    xlab=\"Nombre de Simulations\",\n",
    "    ylab=\"Erreur totale H\")\n",
    "\n",
    "# Méthode Transition 2\n",
    "# Initialissation aleatoire des couleurs des departements\n",
    "G = sample(1:L,N,replace=TRUE)\n",
    "\n",
    "# on enlève les warning car on en déclenche certains\n",
    "old_warn_val = getOption(\"warn\")\n",
    "options(warn = -1)\n",
    "\n",
    "result = compute_G(G, nmax, 2)\n",
    "\n",
    "G_opt2 = unlist(result[\"G\"])\n",
    "H_opt2 = unlist(result[\"H\"])\n",
    "\n",
    "plot(H_opt2,\n",
    "    main=\"Transition 2\",\n",
    "    xlab=\"Nombre de Simulations\",\n",
    "    ylab=\"Erreur totale H\")\n",
    "\n",
    "# On remet les warnings\n",
    "options(warn = old_warn_val)"
   ]
  },
  {
   "cell_type": "markdown",
   "metadata": {},
   "source": [
    "#### Affichage de la Carte"
   ]
  },
  {
   "cell_type": "code",
   "execution_count": 10,
   "metadata": {},
   "outputs": [
    {
     "name": "stderr",
     "output_type": "stream",
     "text": [
      "Loading required package: sp\n",
      "Checking rgeos availability: FALSE\n",
      " \tNote: when rgeos is not available, polygon geometry \tcomputations in maptools depend on gpclib,\n",
      " \twhich has a restricted licence. It is disabled by default;\n",
      " \tto enable gpclib, type gpclibPermit()\n",
      "Warning message:\n",
      "\"readShapeSpatial is deprecated; use rgdal::readOGR or sf::st_read\"Warning message:\n",
      "\"readShapePoly is deprecated; use rgdal::readOGR or sf::st_read\"Warning message in eval(expr, envir, enclos):\n",
      "\"NAs introduits lors de la conversion automatique\"Warning message:\n",
      "\"readShapeSpatial is deprecated; use rgdal::readOGR or sf::st_read\"Warning message:\n",
      "\"readShapePoly is deprecated; use rgdal::readOGR or sf::st_read\"Warning message in eval(expr, envir, enclos):\n",
      "\"NAs introduits lors de la conversion automatique\""
     ]
    },
    {
     "data": {
      "image/png": "[encoded data removed]",
      "text/plain": [
       "Plot with title \"Carte Transition 1\""
      ]
     },
     "metadata": {},
     "output_type": "display_data"
    },
    {
     "data": {
      "image/png": "[encoded data removed]",
      "text/plain": [
       "Plot with title \"Carte Transition 2\""
      ]
     },
     "metadata": {},
     "output_type": "display_data"
    }
   ],
   "source": [
    "# On change notre \"Working Directory\" afin de trouver les fichiers nécessaires\n",
    "setwd(dir=getwd())\n",
    "\n",
    "couleurs = c(\"blue\", \"red\", \"yellow\", \"green\")\n",
    "\n",
    "# Carte Transition 1\n",
    "####################\n",
    "\n",
    "vect_couleurs= couleurs[G_opt1]\n",
    "\n",
    "## recupertion du fond de carte et affichage\n",
    "library(maptools)\n",
    "fdc = readShapeSpatial(\"DEPARTEMENT\")\n",
    "\n",
    "A=fdc\n",
    "A$CODE_DEPT=as.numeric(as.character(A$CODE_DEPT))\n",
    "ligne=which(is.na(A$CODE_DEPT))  \n",
    "A$CODE_DEPT[ligne]=20\n",
    "A = A[order(A$CODE_DEPT),]\n",
    "fdc=A[order(A$CODE_DEPT),]\n",
    "\n",
    "vect_couleurs=c(vect_couleurs[1:20],vect_couleurs[20],vect_couleurs[21:95])\n",
    "\n",
    "plot(fdc,\n",
    "     col=vect_couleurs,\n",
    "    main=\"Carte Transition 1\")\n",
    "mtext(paste(\"Conflits restants : \", as.character(H_opt1[nmax])))\n",
    "\n",
    "# Carte Transition 2\n",
    "####################\n",
    "\n",
    "vect_couleurs= couleurs[G_opt2]\n",
    "\n",
    "## recupertion du fond de carte et affichage\n",
    "library(maptools)\n",
    "fdc = readShapeSpatial(\"DEPARTEMENT\")\n",
    "\n",
    "A=fdc\n",
    "A$CODE_DEPT=as.numeric(as.character(A$CODE_DEPT))\n",
    "ligne=which(is.na(A$CODE_DEPT))  \n",
    "A$CODE_DEPT[ligne]=20\n",
    "A = A[order(A$CODE_DEPT),]\n",
    "fdc=A[order(A$CODE_DEPT),]\n",
    "\n",
    "vect_couleurs=c(vect_couleurs[1:20],vect_couleurs[20],vect_couleurs[21:95])\n",
    "\n",
    "plot(fdc,\n",
    "     col=vect_couleurs,\n",
    "    main=\"Carte Transition 2\")\n",
    "mtext(paste(\"Conflits restants : \", as.character(H_opt2[nmax])))"
   ]
  },
  {
   "cell_type": "markdown",
   "metadata": {},
   "source": [
    "### Conclusion"
   ]
  },
  {
   "cell_type": "markdown",
   "metadata": {},
   "source": [
    " * The transition 1 is implemented using a classique Metropolis Algorithm with simulated annealing.\n",
    " * The transition 2 is using the probabilty of Gibbs. We don't have any more conflicts left\n"
   ]
  }
 ],
 "metadata": {
  "kernelspec": {
   "display_name": "R",
   "language": "R",
   "name": "ir"
  },
  "language_info": {
   "codemirror_mode": "r",
   "file_extension": ".r",
   "mimetype": "text/x-r-source",
   "name": "R",
   "pygments_lexer": "r",
   "version": "3.5.1"
  }
 },
 "nbformat": 4,
 "nbformat_minor": 2
}
